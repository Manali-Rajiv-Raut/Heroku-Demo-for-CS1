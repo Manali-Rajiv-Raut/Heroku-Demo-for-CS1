{
 "cells": [
  {
   "cell_type": "code",
   "execution_count": 11,
   "metadata": {},
   "outputs": [],
   "source": [
    "from module_2_preprocessing import Data_Preprocessing"
   ]
  },
  {
   "cell_type": "code",
   "execution_count": 12,
   "metadata": {},
   "outputs": [],
   "source": [
    "import joblib\n",
    "import pickle\n",
    "import numpy as np\n",
    "from flask import Flask, request, jsonify, render_template\n",
    "#import pandas as pd"
   ]
  },
  {
   "cell_type": "code",
   "execution_count": 13,
   "metadata": {},
   "outputs": [],
   "source": [
    "class Find_Trustworthiness():\n",
    "    \n",
    "    def loading_files_models(self):\n",
    "        rf_reg = joblib.load(\"saved_model/RF_regressor_model_.pkl\") \n",
    "        vectorizer_sit = joblib.load('saved_model/vectorizer_sit.pkl')\n",
    "        \n",
    "        with open('output_files/feature_dict', 'rb') as f:             \n",
    "            feature_dict = pickle.load(f)\n",
    "        \n",
    "        with open('output_files/Features', 'rb') as f:             \n",
    "            new_features = pickle.load(f)\n",
    "            \n",
    "        return rf_reg , vectorizer_sit , feature_dict , new_features\n",
    "    \n",
    "    def new_vec_with_support_values(self,vec,feature_dict , new_features):\n",
    "        new_train_vec = np.zeros((vec.shape[0],vec.shape[1]))\n",
    "        for row in range(len(vec)):\n",
    "            for col in range(len(vec[row])):\n",
    "                if vec[row][col] != 0.0:\n",
    "                    #print(X_test[row][col],\"==>\",col)\n",
    "                    val = feature_dict[new_features[col]]\n",
    "                    new_train_vec[row][col] = val \n",
    "        return new_train_vec\n",
    "        \n",
    "    \n",
    "    def predict(self,sentence):\n",
    "        rf_reg , vectorizer_sit , feature_dict , new_features = self.loading_files_models()\n",
    "        \n",
    "        dp = Data_Preprocessing()\n",
    "        sentence_preprocessed = dp.preprocess_text(sentence)\n",
    "        vec  = vectorizer_sit.transform(sentence_preprocessed).toarray()\n",
    "        #print(\"vec\",vec.shape)\n",
    "        new_vec = self.new_vec_with_support_values(vec,feature_dict , new_features)\n",
    "        #print(\"new_vec\" , new_vec.shape)\n",
    "        \n",
    "        y_pred = rf_reg.predict(new_vec)\n",
    "        \n",
    "        if y_pred !=0.0 :\n",
    "            print(\"Predicted label : Trustworthy\")\n",
    "        else:\n",
    "            print(\"Predicted label : Not Trustworthy\")              "
   ]
  },
  {
   "cell_type": "code",
   "execution_count": 14,
   "metadata": {},
   "outputs": [],
   "source": [
    "ft = Find_Trustworthiness()\n",
    "#ft.predict(\"Run a marathon in under two hours. Impossible? Not for Nike (@Nike). Last May, the company brought three of the best runners on the planet together in Italy to set a new record in a closed-door marathon that was broadcast live on Twitter.\")"
   ]
  },
  {
   "cell_type": "code",
   "execution_count": 15,
   "metadata": {},
   "outputs": [],
   "source": [
    "sentence = 'For #NationalVegetarianWeek, the English food supplier Tesco (@Tesco) shared a range of delicious vegetarian recipes in customized Moments'"
   ]
  },
  {
   "cell_type": "code",
   "execution_count": 16,
   "metadata": {},
   "outputs": [
    {
     "name": "stdout",
     "output_type": "stream",
     "text": [
      "Predicted label : Not Trustworthy\n"
     ]
    }
   ],
   "source": [
    "ft.predict(sentence)"
   ]
  },
  {
   "cell_type": "code",
   "execution_count": null,
   "metadata": {},
   "outputs": [],
   "source": []
  }
 ],
 "metadata": {
  "kernelspec": {
   "display_name": "Python 3",
   "language": "python",
   "name": "python3"
  },
  "language_info": {
   "codemirror_mode": {
    "name": "ipython",
    "version": 3
   },
   "file_extension": ".py",
   "mimetype": "text/x-python",
   "name": "python",
   "nbconvert_exporter": "python",
   "pygments_lexer": "ipython3",
   "version": "3.7.3"
  }
 },
 "nbformat": 4,
 "nbformat_minor": 2
}
